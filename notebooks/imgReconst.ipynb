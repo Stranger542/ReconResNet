{
 "cells": [
  {
   "cell_type": "code",
   "execution_count": 3,
   "metadata": {},
   "outputs": [
    {
     "name": "stdout",
     "output_type": "stream",
     "text": [
      "Files already downloaded and verified\n"
     ]
    }
   ],
   "source": [
    "import torch\n",
    "import torchvision.transforms as transforms\n",
    "import torchvision.datasets as datasets\n",
    "from torch.utils.data import DataLoader\n",
    "\n",
    "# Define transformations\n",
    "transform = transforms.Compose([\n",
    "    transforms.ToTensor(),         # Convert images to PyTorch tensors\n",
    "    transforms.Normalize((0.5, 0.5, 0.5), (0.5, 0.5, 0.5)),  # Normalize images\n",
    "])\n",
    "\n",
    "# Download and load CIFAR-10 dataset\n",
    "batch_size = 64\n",
    "train_dataset = datasets.CIFAR10(root='./data', train=True, download=True, transform=transform)\n",
    "train_loader = DataLoader(train_dataset, batch_size=batch_size, shuffle=True)\n"
   ]
  },
  {
   "cell_type": "code",
   "execution_count": 4,
   "metadata": {},
   "outputs": [],
   "source": [
    "import torch.nn as nn\n",
    "\n",
    "class InvertibleConvLayer(nn.Module):\n",
    "    def __init__(self, in_channels):\n",
    "        super(InvertibleConvLayer, self).__init__()\n",
    "        self.conv = nn.Conv2d(in_channels, in_channels, kernel_size=3, padding=1)\n",
    "        self.log_det_jacobian = None  # For calculating log determinant of the Jacobian\n",
    "\n",
    "    def forward(self, x):\n",
    "        self.log_det_jacobian = torch.log(torch.abs(torch.det(self.conv.weight)))  # Compute the log determinant\n",
    "        return self.conv(x)\n",
    "\n",
    "    def inverse(self, y):\n",
    "        # Inverse operation using torch.linalg.pinv for simplicity\n",
    "        return nn.functional.conv2d(y, self.conv.weight.inverse(), stride=1, padding=1)\n",
    "\n",
    "class ICN(nn.Module):\n",
    "    def __init__(self, num_layers, in_channels):\n",
    "        super(ICN, self).__init__()\n",
    "        self.layers = nn.ModuleList([InvertibleConvLayer(in_channels) for _ in range(num_layers)])\n",
    "\n",
    "    def forward(self, x):\n",
    "        for layer in self.layers:\n",
    "            x = layer(x)\n",
    "        return x\n",
    "\n",
    "    def inverse(self, y):\n",
    "        for layer in reversed(self.layers):\n",
    "            y = layer.inverse(y)\n",
    "        return y\n"
   ]
  },
  {
   "cell_type": "code",
   "execution_count": 5,
   "metadata": {},
   "outputs": [
    {
     "name": "stdout",
     "output_type": "stream",
     "text": [
      "Epoch [1/10], Loss: 0.0330\n",
      "Epoch [2/10], Loss: 0.0058\n",
      "Epoch [3/10], Loss: 0.0017\n",
      "Epoch [4/10], Loss: 0.0010\n",
      "Epoch [5/10], Loss: 0.0007\n",
      "Epoch [6/10], Loss: 0.0005\n",
      "Epoch [7/10], Loss: 0.0003\n",
      "Epoch [8/10], Loss: 0.0003\n",
      "Epoch [9/10], Loss: 0.0002\n",
      "Epoch [10/10], Loss: 0.0002\n"
     ]
    }
   ],
   "source": [
    "import torch.optim as optim\n",
    "\n",
    "# Instantiate model, optimizer, and loss function\n",
    "model = ICN(num_layers=5, in_channels=3)\n",
    "optimizer = optim.Adam(model.parameters(), lr=0.001)\n",
    "criterion = nn.MSELoss()  # Mean Squared Error loss for reconstruction\n",
    "\n",
    "# Training loop\n",
    "num_epochs = 10\n",
    "for epoch in range(num_epochs):\n",
    "    model.train()\n",
    "    running_loss = 0.0\n",
    "    for images, _ in train_loader:\n",
    "        images = images\n",
    "        \n",
    "        optimizer.zero_grad()\n",
    "        output = model(images)  # Forward pass\n",
    "        loss = criterion(output, images)  # Compute loss\n",
    "        loss.backward()  # Backward pass\n",
    "        optimizer.step()  # Update weights\n",
    "        \n",
    "        running_loss += loss.item()\n",
    "\n",
    "    print(f'Epoch [{epoch+1}/{num_epochs}], Loss: {running_loss/len(train_loader):.4f}')\n"
   ]
  },
  {
   "cell_type": "code",
   "execution_count": 6,
   "metadata": {},
   "outputs": [
    {
     "name": "stderr",
     "output_type": "stream",
     "text": [
      "Clipping input data to the valid range for imshow with RGB data ([0..1] for floats or [0..255] for integers). Got range [-29151494000.0..26347256000.0].\n",
      "Clipping input data to the valid range for imshow with RGB data ([0..1] for floats or [0..255] for integers). Got range [-24063734000.0..22997848000.0].\n",
      "Clipping input data to the valid range for imshow with RGB data ([0..1] for floats or [0..255] for integers). Got range [-26019640000.0..26710305000.0].\n"
     ]
    },
    {
     "data": {
      "image/png": "[encoded data removed]",
      "text/plain": [
       "<Figure size 1200x600 with 3 Axes>"
      ]
     },
     "metadata": {},
     "output_type": "display_data"
    }
   ],
   "source": [
    "import matplotlib.pyplot as plt\n",
    "\n",
    "def generate_images(model, num_samples):\n",
    "    model.eval()\n",
    "    with torch.no_grad():\n",
    "        latent_samples = torch.randn(num_samples, 3, 32, 32)  # Random latent samples\n",
    "        generated_images = model.inverse(latent_samples)\n",
    "    return generated_images.cpu()\n",
    "\n",
    "# Generate and visualize images\n",
    "num_samples = 3\n",
    "generated_images = generate_images(model, num_samples)\n",
    "\n",
    "# Plot the generated images\n",
    "plt.figure(figsize=(12,6))\n",
    "for i in range(num_samples):\n",
    "    plt.subplot(1, num_samples, i + 1)\n",
    "    plt.imshow((generated_images[i].permute(1, 2, 0) + 1) / 2)  # Denormalize\n",
    "    plt.axis('off')\n",
    "plt.show()\n"
   ]
  }
 ],
 "metadata": {
  "kernelspec": {
   "display_name": "Python 3",
   "language": "python",
   "name": "python3"
  },
  "language_info": {
   "codemirror_mode": {
    "name": "ipython",
    "version": 3
   },
   "file_extension": ".py",
   "mimetype": "text/x-python",
   "name": "python",
   "nbconvert_exporter": "python",
   "pygments_lexer": "ipython3",
   "version": "3.12.4"
  }
 },
 "nbformat": 4,
 "nbformat_minor": 2
}
